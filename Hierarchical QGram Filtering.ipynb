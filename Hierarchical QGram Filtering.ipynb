{
 "cells": [
  {
   "cell_type": "markdown",
   "metadata": {},
   "source": [
    "# Standard PEX Algorithm"
   ]
  },
  {
   "cell_type": "code",
   "execution_count": 1,
   "metadata": {
    "collapsed": false
   },
   "outputs": [],
   "source": [
    "from standard_pex import StandardPEXAlgorithm"
   ]
  },
  {
   "cell_type": "code",
   "execution_count": 2,
   "metadata": {
    "collapsed": false
   },
   "outputs": [],
   "source": [
    "pex = StandardPEXAlgorithm()\n",
    "\n",
    "search_string = 'annual'\n",
    "input_string ='annual.CPM.anniversary.annua.cannibal.nuality.annual.anteal.annnneal.a.nn.al'\n",
    "k = 2\n",
    "\n",
    "pex.create_tree(search_string, 0, len(search_string)-1, k, None, int(len(search_string)/(k+1)))"
   ]
  },
  {
   "cell_type": "code",
   "execution_count": 22,
   "metadata": {
    "collapsed": false
   },
   "outputs": [
    {
     "name": "stdout",
     "output_type": "stream",
     "text": [
      "1000 loops, best of 3: 69.6 µs per loop\n"
     ]
    }
   ],
   "source": [
    "%timeit -n 1000 pex.find_indices(input_string)"
   ]
  },
  {
   "cell_type": "code",
   "execution_count": 14,
   "metadata": {
    "collapsed": false
   },
   "outputs": [],
   "source": [
    "pex.search_candidates(input_string)"
   ]
  },
  {
   "cell_type": "code",
   "execution_count": 15,
   "metadata": {
    "collapsed": false
   },
   "outputs": [
    {
     "name": "stdout",
     "output_type": "stream",
     "text": [
      "0 annual\n",
      "36 l.nual\n",
      "30 annibal\n",
      "70 .nn.al\n",
      "23 annua.\n",
      "62 nnneal\n",
      "46 annual\n",
      "53 anteal\n"
     ]
    }
   ],
   "source": [
    "for index, value in pex.indicesDict.items():\n",
    "    print(index , value)"
   ]
  },
  {
   "cell_type": "markdown",
   "metadata": {},
   "source": [
    "# Parallel PEX Algorithm"
   ]
  },
  {
   "cell_type": "code",
   "execution_count": 24,
   "metadata": {
    "collapsed": false
   },
   "outputs": [],
   "source": [
    "from parallel_pex import ParallelPEXAlgorithm"
   ]
  },
  {
   "cell_type": "code",
   "execution_count": 25,
   "metadata": {
    "collapsed": true
   },
   "outputs": [],
   "source": [
    "pex = ParallelPEXAlgorithm()\n",
    "\n",
    "search_string = 'annual'\n",
    "input_string ='annual.CPM.anniversary.annua.cannibal.nuality.annual.anteal.annnneal.a.nn.al'\n",
    "k = 2\n",
    "\n",
    "pex.create_tree(search_string, 0, len(search_string)-1, k, None, int(len(search_string)/(k+1)))"
   ]
  },
  {
   "cell_type": "code",
   "execution_count": 26,
   "metadata": {
    "collapsed": false
   },
   "outputs": [
    {
     "name": "stdout",
     "output_type": "stream",
     "text": [
      "1000 loops, best of 3: 65.8 µs per loop\n"
     ]
    }
   ],
   "source": [
    "%timeit -n 1000 pex.find_indices(input_string)"
   ]
  },
  {
   "cell_type": "code",
   "execution_count": null,
   "metadata": {
    "collapsed": true
   },
   "outputs": [],
   "source": []
  }
 ],
 "metadata": {
  "anaconda-cloud": {},
  "kernelspec": {
   "display_name": "Python [conda root]",
   "language": "python",
   "name": "conda-root-py"
  },
  "language_info": {
   "codemirror_mode": {
    "name": "ipython",
    "version": 3
   },
   "file_extension": ".py",
   "mimetype": "text/x-python",
   "name": "python",
   "nbconvert_exporter": "python",
   "pygments_lexer": "ipython3",
   "version": "3.5.2"
  }
 },
 "nbformat": 4,
 "nbformat_minor": 1
}
