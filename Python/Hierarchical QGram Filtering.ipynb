{
 "cells": [
  {
   "cell_type": "markdown",
   "metadata": {},
   "source": [
    "# Standard PEX Algorithm"
   ]
  },
  {
   "cell_type": "code",
   "execution_count": null,
   "metadata": {
    "collapsed": false
   },
   "outputs": [],
   "source": [
    "from standard_pex import StandardPEXAlgorithm"
   ]
  },
  {
   "cell_type": "code",
   "execution_count": null,
   "metadata": {
    "collapsed": true
   },
   "outputs": [],
   "source": [
    "pex = StandardPEXAlgorithm()\n",
    "\n",
    "search_string = 'annual'\n",
    "input_string ='annual.CPM.anniversary.annua.cannibal.nuality.annual.anteal.annnneal.a.nn.al'\n",
    "search_string = 'aaabbbcccddd'\n",
    "input_string = 'xaabbbcccdddxaabbbcccddd'\n",
    "\n",
    "k = 2"
   ]
  },
  {
   "cell_type": "code",
   "execution_count": null,
   "metadata": {
    "collapsed": false
   },
   "outputs": [],
   "source": [
    "pex.create_tree(search_string, 0, len(search_string)-1, k, None, int(len(search_string)/(k+1)))"
   ]
  },
  {
   "cell_type": "code",
   "execution_count": null,
   "metadata": {
    "collapsed": false
   },
   "outputs": [],
   "source": [
    "pex.find_indices(input_string)"
   ]
  },
  {
   "cell_type": "code",
   "execution_count": null,
   "metadata": {
    "collapsed": false
   },
   "outputs": [],
   "source": [
    "%timeit -n 1 pex.search_candidates(input_string)"
   ]
  },
  {
   "cell_type": "code",
   "execution_count": null,
   "metadata": {
    "collapsed": false
   },
   "outputs": [],
   "source": [
    "for index, value in pex.indicesDict.items():\n",
    "    print(index , value)"
   ]
  },
  {
   "cell_type": "markdown",
   "metadata": {},
   "source": [
    "# Parallel PEX Algorithm"
   ]
  },
  {
   "cell_type": "code",
   "execution_count": 1,
   "metadata": {
    "collapsed": false
   },
   "outputs": [],
   "source": [
    "from parallel_pex import ParallelPEXAlgorithm\n",
    "import numba\n",
    "from node import *\n",
    "import numpy as np"
   ]
  },
  {
   "cell_type": "code",
   "execution_count": 4,
   "metadata": {
    "collapsed": false
   },
   "outputs": [
    {
     "ename": "TypingError",
     "evalue": "Failed at nopython (nopython frontend)\nInternal error at <numba.typeinfer.CallConstraint object at 0x0000024BCCDDA0F0>:\n--%<-----------------------------------------------------------------\nTraceback (most recent call last):\n  File \"D:\\Program Files\\Continuum\\Anaconda3\\lib\\site-packages\\numba\\targets\\base.py\", line 644, in cast\n    impl = self._casts.find((fromty, toty))\n  File \"D:\\Program Files\\Continuum\\Anaconda3\\lib\\site-packages\\numba\\targets\\base.py\", line 49, in find\n    out = self._find(sig)\n  File \"D:\\Program Files\\Continuum\\Anaconda3\\lib\\site-packages\\numba\\targets\\base.py\", line 58, in _find\n    raise NotImplementedError(self, sig)\nNotImplementedError: (<numba.targets.base.OverloadSelector object at 0x0000024BCC90AC50>, (reflected list(int64), array(int64, 1d, A)))\n\nDuring handling of the above exception, another exception occurred:\n\nTraceback (most recent call last):\n  File \"D:\\Program Files\\Continuum\\Anaconda3\\lib\\site-packages\\numba\\errors.py\", line 259, in new_error_context\n    yield\n  File \"D:\\Program Files\\Continuum\\Anaconda3\\lib\\site-packages\\numba\\lowering.py\", line 216, in lower_block\n    self.lower_inst(inst)\n  File \"D:\\Program Files\\Continuum\\Anaconda3\\lib\\site-packages\\numba\\lowering.py\", line 355, in lower_inst\n    signature.args[1])\n  File \"D:\\Program Files\\Continuum\\Anaconda3\\lib\\site-packages\\numba\\targets\\base.py\", line 648, in cast\n    \"Cannot cast %s to %s: %s\" % (fromty, toty, val))\nNotImplementedError: Cannot cast reflected list(int64) to array(int64, 1d, A): %\".125\" = load {i8*, i8*}, {i8*, i8*}* %\"indices\"\n\nDuring handling of the above exception, another exception occurred:\n\nTraceback (most recent call last):\n  File \"D:\\Program Files\\Continuum\\Anaconda3\\lib\\site-packages\\numba\\typeinfer.py\", line 137, in propagate\n    constraint(typeinfer)\n  File \"D:\\Program Files\\Continuum\\Anaconda3\\lib\\site-packages\\numba\\typeinfer.py\", line 415, in __call__\n    self.resolve(typeinfer, typevars, fnty)\n  File \"D:\\Program Files\\Continuum\\Anaconda3\\lib\\site-packages\\numba\\typeinfer.py\", line 441, in resolve\n    sig = typeinfer.resolve_call(fnty, pos_args, kw_args, literals=literals)\n  File \"D:\\Program Files\\Continuum\\Anaconda3\\lib\\site-packages\\numba\\typeinfer.py\", line 1113, in resolve_call\n    literals=literals)\n  File \"D:\\Program Files\\Continuum\\Anaconda3\\lib\\site-packages\\numba\\typing\\context.py\", line 202, in resolve_function_type\n    return func.get_call_type_with_literals(self, args, kws, literals)\n  File \"D:\\Program Files\\Continuum\\Anaconda3\\lib\\site-packages\\numba\\types\\abstract.py\", line 266, in get_call_type_with_literals\n    return self.get_call_type(context, args, kws)\n  File \"D:\\Program Files\\Continuum\\Anaconda3\\lib\\site-packages\\numba\\types\\misc.py\", line 374, in get_call_type\n    return self.ctor_template(context).apply(args, kws)\n  File \"D:\\Program Files\\Continuum\\Anaconda3\\lib\\site-packages\\numba\\typing\\templates.py\", line 207, in apply\n    sig = generic(args, kws)\n  File \"D:\\Program Files\\Continuum\\Anaconda3\\lib\\site-packages\\numba\\jitclass\\base.py\", line 231, in generic\n    sig = disp_type.get_call_type(self.context, boundargs, kws)\n  File \"D:\\Program Files\\Continuum\\Anaconda3\\lib\\site-packages\\numba\\types\\functions.py\", line 175, in get_call_type\n    template, pysig, args, kws = self.dispatcher.get_call_template(args, kws)\n  File \"D:\\Program Files\\Continuum\\Anaconda3\\lib\\site-packages\\numba\\dispatcher.py\", line 269, in get_call_template\n    self.compile(tuple(args))\n  File \"D:\\Program Files\\Continuum\\Anaconda3\\lib\\site-packages\\numba\\dispatcher.py\", line 579, in compile\n    cres = self._compiler.compile(args, return_type)\n  File \"D:\\Program Files\\Continuum\\Anaconda3\\lib\\site-packages\\numba\\dispatcher.py\", line 80, in compile\n    flags=flags, locals=self.locals)\n  File \"D:\\Program Files\\Continuum\\Anaconda3\\lib\\site-packages\\numba\\compiler.py\", line 763, in compile_extra\n    return pipeline.compile_extra(func)\n  File \"D:\\Program Files\\Continuum\\Anaconda3\\lib\\site-packages\\numba\\compiler.py\", line 360, in compile_extra\n    return self._compile_bytecode()\n  File \"D:\\Program Files\\Continuum\\Anaconda3\\lib\\site-packages\\numba\\compiler.py\", line 722, in _compile_bytecode\n    return self._compile_core()\n  File \"D:\\Program Files\\Continuum\\Anaconda3\\lib\\site-packages\\numba\\compiler.py\", line 709, in _compile_core\n    res = pm.run(self.status)\n  File \"D:\\Program Files\\Continuum\\Anaconda3\\lib\\site-packages\\numba\\compiler.py\", line 246, in run\n    raise patched_exception\n  File \"D:\\Program Files\\Continuum\\Anaconda3\\lib\\site-packages\\numba\\compiler.py\", line 238, in run\n    stage()\n  File \"D:\\Program Files\\Continuum\\Anaconda3\\lib\\site-packages\\numba\\compiler.py\", line 644, in stage_nopython_backend\n    self._backend(lowerfn, objectmode=False)\n  File \"D:\\Program Files\\Continuum\\Anaconda3\\lib\\site-packages\\numba\\compiler.py\", line 599, in _backend\n    lowered = lowerfn()\n  File \"D:\\Program Files\\Continuum\\Anaconda3\\lib\\site-packages\\numba\\compiler.py\", line 586, in backend_nopython_mode\n    self.flags)\n  File \"D:\\Program Files\\Continuum\\Anaconda3\\lib\\site-packages\\numba\\compiler.py\", line 882, in native_lowering_stage\n    lower.lower()\n  File \"D:\\Program Files\\Continuum\\Anaconda3\\lib\\site-packages\\numba\\lowering.py\", line 135, in lower\n    self.lower_normal_function(self.fndesc)\n  File \"D:\\Program Files\\Continuum\\Anaconda3\\lib\\site-packages\\numba\\lowering.py\", line 176, in lower_normal_function\n    entry_block_tail = self.lower_function_body()\n  File \"D:\\Program Files\\Continuum\\Anaconda3\\lib\\site-packages\\numba\\lowering.py\", line 201, in lower_function_body\n    self.lower_block(block)\n  File \"D:\\Program Files\\Continuum\\Anaconda3\\lib\\site-packages\\numba\\lowering.py\", line 216, in lower_block\n    self.lower_inst(inst)\n  File \"D:\\Program Files\\Continuum\\Anaconda3\\lib\\contextlib.py\", line 77, in __exit__\n    self.gen.throw(type, value, traceback)\n  File \"D:\\Program Files\\Continuum\\Anaconda3\\lib\\site-packages\\numba\\errors.py\", line 265, in new_error_context\n    six.reraise(type(newerr), newerr, sys.exc_info()[2])\n  File \"D:\\Program Files\\Continuum\\Anaconda3\\lib\\site-packages\\numba\\six.py\", line 658, in reraise\n    raise value.with_traceback(tb)\n  File \"D:\\Program Files\\Continuum\\Anaconda3\\lib\\site-packages\\numba\\errors.py\", line 259, in new_error_context\n    yield\n  File \"D:\\Program Files\\Continuum\\Anaconda3\\lib\\site-packages\\numba\\lowering.py\", line 216, in lower_block\n    self.lower_inst(inst)\n  File \"D:\\Program Files\\Continuum\\Anaconda3\\lib\\site-packages\\numba\\lowering.py\", line 355, in lower_inst\n    signature.args[1])\n  File \"D:\\Program Files\\Continuum\\Anaconda3\\lib\\site-packages\\numba\\targets\\base.py\", line 648, in cast\n    \"Cannot cast %s to %s: %s\" % (fromty, toty, val))\nnumba.errors.LoweringError: Failed at nopython (nopython mode backend)\nCannot cast reflected list(int64) to array(int64, 1d, A): %\".125\" = load {i8*, i8*}, {i8*, i8*}* %\"indices\"\nFile \"node.py\", line 22\n[1] During: lowering \"(self).indices = indices\" at C:\\Users\\jankr\\Documents\\GitHub\\CSC612M Final Project\\node.py (22)\n[2] During: resolving callee type: jitclass.ParallelNode#24bcb586d18<parent:?DeferredType#2524551553880,start:int64,end:int64,error:int64,pattern:int64,indices:array(int64, 1d, A)>\n[3] During: typing of call at <string> (3)\n--%<-----------------------------------------------------------------\n\nFile \"<string>\", line 3",
     "output_type": "error",
     "traceback": [
      "\u001b[0;31m---------------------------------------------------------------------------\u001b[0m",
      "\u001b[0;31mTypingError\u001b[0m                               Traceback (most recent call last)",
      "\u001b[0;32m<ipython-input-4-c0c6bc8fc93b>\u001b[0m in \u001b[0;36m<module>\u001b[0;34m()\u001b[0m\n\u001b[1;32m      2\u001b[0m \u001b[0mindices\u001b[0m \u001b[1;33m=\u001b[0m \u001b[1;33m[\u001b[0m\u001b[1;33m]\u001b[0m\u001b[1;33m\u001b[0m\u001b[0m\n\u001b[1;32m      3\u001b[0m \u001b[0mindices\u001b[0m\u001b[1;33m.\u001b[0m\u001b[0mappend\u001b[0m\u001b[1;33m(\u001b[0m\u001b[1;36m0x80000000\u001b[0m\u001b[1;33m)\u001b[0m\u001b[1;33m\u001b[0m\u001b[0m\n\u001b[0;32m----> 4\u001b[0;31m \u001b[0mleaves\u001b[0m\u001b[1;33m.\u001b[0m\u001b[0mappend\u001b[0m\u001b[1;33m(\u001b[0m\u001b[0mParallelNode\u001b[0m\u001b[1;33m(\u001b[0m\u001b[0mindices\u001b[0m\u001b[1;33m)\u001b[0m\u001b[1;33m)\u001b[0m\u001b[1;33m\u001b[0m\u001b[0m\n\u001b[0m\u001b[1;32m      5\u001b[0m \u001b[0mpex\u001b[0m \u001b[1;33m=\u001b[0m \u001b[0mParallelPEXAlgorithm\u001b[0m\u001b[1;33m(\u001b[0m\u001b[0mleaves\u001b[0m\u001b[1;33m,\u001b[0m\u001b[0mindices\u001b[0m\u001b[1;33m)\u001b[0m\u001b[1;33m\u001b[0m\u001b[0m\n\u001b[1;32m      6\u001b[0m \u001b[1;33m\u001b[0m\u001b[0m\n",
      "\u001b[0;32mD:\\Program Files\\Continuum\\Anaconda3\\lib\\site-packages\\numba\\jitclass\\base.py\u001b[0m in \u001b[0;36m__call__\u001b[0;34m(cls, *args, **kwargs)\u001b[0m\n\u001b[1;32m    112\u001b[0m \u001b[1;33m\u001b[0m\u001b[0m\n\u001b[1;32m    113\u001b[0m     \u001b[1;32mdef\u001b[0m \u001b[0m__call__\u001b[0m\u001b[1;33m(\u001b[0m\u001b[0mcls\u001b[0m\u001b[1;33m,\u001b[0m \u001b[1;33m*\u001b[0m\u001b[0margs\u001b[0m\u001b[1;33m,\u001b[0m \u001b[1;33m**\u001b[0m\u001b[0mkwargs\u001b[0m\u001b[1;33m)\u001b[0m\u001b[1;33m:\u001b[0m\u001b[1;33m\u001b[0m\u001b[0m\n\u001b[0;32m--> 114\u001b[0;31m         \u001b[1;32mreturn\u001b[0m \u001b[0mcls\u001b[0m\u001b[1;33m.\u001b[0m\u001b[0m_ctor\u001b[0m\u001b[1;33m(\u001b[0m\u001b[1;33m*\u001b[0m\u001b[0margs\u001b[0m\u001b[1;33m,\u001b[0m \u001b[1;33m**\u001b[0m\u001b[0mkwargs\u001b[0m\u001b[1;33m)\u001b[0m\u001b[1;33m\u001b[0m\u001b[0m\n\u001b[0m\u001b[1;32m    115\u001b[0m \u001b[1;33m\u001b[0m\u001b[0m\n\u001b[1;32m    116\u001b[0m \u001b[1;33m\u001b[0m\u001b[0m\n",
      "\u001b[0;32mD:\\Program Files\\Continuum\\Anaconda3\\lib\\site-packages\\numba\\dispatcher.py\u001b[0m in \u001b[0;36m_compile_for_args\u001b[0;34m(self, *args, **kws)\u001b[0m\n\u001b[1;32m    328\u001b[0m                                 for i, err in failed_args))\n\u001b[1;32m    329\u001b[0m                 \u001b[0me\u001b[0m\u001b[1;33m.\u001b[0m\u001b[0mpatch_message\u001b[0m\u001b[1;33m(\u001b[0m\u001b[0mmsg\u001b[0m\u001b[1;33m)\u001b[0m\u001b[1;33m\u001b[0m\u001b[0m\n\u001b[0;32m--> 330\u001b[0;31m             \u001b[1;32mraise\u001b[0m \u001b[0me\u001b[0m\u001b[1;33m\u001b[0m\u001b[0m\n\u001b[0m\u001b[1;32m    331\u001b[0m \u001b[1;33m\u001b[0m\u001b[0m\n\u001b[1;32m    332\u001b[0m     \u001b[1;32mdef\u001b[0m \u001b[0minspect_llvm\u001b[0m\u001b[1;33m(\u001b[0m\u001b[0mself\u001b[0m\u001b[1;33m,\u001b[0m \u001b[0msignature\u001b[0m\u001b[1;33m=\u001b[0m\u001b[1;32mNone\u001b[0m\u001b[1;33m)\u001b[0m\u001b[1;33m:\u001b[0m\u001b[1;33m\u001b[0m\u001b[0m\n",
      "\u001b[0;32mD:\\Program Files\\Continuum\\Anaconda3\\lib\\site-packages\\numba\\dispatcher.py\u001b[0m in \u001b[0;36m_compile_for_args\u001b[0;34m(self, *args, **kws)\u001b[0m\n\u001b[1;32m    305\u001b[0m                 \u001b[0margtypes\u001b[0m\u001b[1;33m.\u001b[0m\u001b[0mappend\u001b[0m\u001b[1;33m(\u001b[0m\u001b[0mself\u001b[0m\u001b[1;33m.\u001b[0m\u001b[0mtypeof_pyval\u001b[0m\u001b[1;33m(\u001b[0m\u001b[0ma\u001b[0m\u001b[1;33m)\u001b[0m\u001b[1;33m)\u001b[0m\u001b[1;33m\u001b[0m\u001b[0m\n\u001b[1;32m    306\u001b[0m         \u001b[1;32mtry\u001b[0m\u001b[1;33m:\u001b[0m\u001b[1;33m\u001b[0m\u001b[0m\n\u001b[0;32m--> 307\u001b[0;31m             \u001b[1;32mreturn\u001b[0m \u001b[0mself\u001b[0m\u001b[1;33m.\u001b[0m\u001b[0mcompile\u001b[0m\u001b[1;33m(\u001b[0m\u001b[0mtuple\u001b[0m\u001b[1;33m(\u001b[0m\u001b[0margtypes\u001b[0m\u001b[1;33m)\u001b[0m\u001b[1;33m)\u001b[0m\u001b[1;33m\u001b[0m\u001b[0m\n\u001b[0m\u001b[1;32m    308\u001b[0m         \u001b[1;32mexcept\u001b[0m \u001b[0merrors\u001b[0m\u001b[1;33m.\u001b[0m\u001b[0mTypingError\u001b[0m \u001b[1;32mas\u001b[0m \u001b[0me\u001b[0m\u001b[1;33m:\u001b[0m\u001b[1;33m\u001b[0m\u001b[0m\n\u001b[1;32m    309\u001b[0m             \u001b[1;31m# Intercept typing error that may be due to an argument\u001b[0m\u001b[1;33m\u001b[0m\u001b[1;33m\u001b[0m\u001b[0m\n",
      "\u001b[0;32mD:\\Program Files\\Continuum\\Anaconda3\\lib\\site-packages\\numba\\dispatcher.py\u001b[0m in \u001b[0;36mcompile\u001b[0;34m(self, sig)\u001b[0m\n\u001b[1;32m    577\u001b[0m \u001b[1;33m\u001b[0m\u001b[0m\n\u001b[1;32m    578\u001b[0m                 \u001b[0mself\u001b[0m\u001b[1;33m.\u001b[0m\u001b[0m_cache_misses\u001b[0m\u001b[1;33m[\u001b[0m\u001b[0msig\u001b[0m\u001b[1;33m]\u001b[0m \u001b[1;33m+=\u001b[0m \u001b[1;36m1\u001b[0m\u001b[1;33m\u001b[0m\u001b[0m\n\u001b[0;32m--> 579\u001b[0;31m                 \u001b[0mcres\u001b[0m \u001b[1;33m=\u001b[0m \u001b[0mself\u001b[0m\u001b[1;33m.\u001b[0m\u001b[0m_compiler\u001b[0m\u001b[1;33m.\u001b[0m\u001b[0mcompile\u001b[0m\u001b[1;33m(\u001b[0m\u001b[0margs\u001b[0m\u001b[1;33m,\u001b[0m \u001b[0mreturn_type\u001b[0m\u001b[1;33m)\u001b[0m\u001b[1;33m\u001b[0m\u001b[0m\n\u001b[0m\u001b[1;32m    580\u001b[0m                 \u001b[0mself\u001b[0m\u001b[1;33m.\u001b[0m\u001b[0madd_overload\u001b[0m\u001b[1;33m(\u001b[0m\u001b[0mcres\u001b[0m\u001b[1;33m)\u001b[0m\u001b[1;33m\u001b[0m\u001b[0m\n\u001b[1;32m    581\u001b[0m                 \u001b[0mself\u001b[0m\u001b[1;33m.\u001b[0m\u001b[0m_cache\u001b[0m\u001b[1;33m.\u001b[0m\u001b[0msave_overload\u001b[0m\u001b[1;33m(\u001b[0m\u001b[0msig\u001b[0m\u001b[1;33m,\u001b[0m \u001b[0mcres\u001b[0m\u001b[1;33m)\u001b[0m\u001b[1;33m\u001b[0m\u001b[0m\n",
      "\u001b[0;32mD:\\Program Files\\Continuum\\Anaconda3\\lib\\site-packages\\numba\\dispatcher.py\u001b[0m in \u001b[0;36mcompile\u001b[0;34m(self, args, return_type)\u001b[0m\n\u001b[1;32m     78\u001b[0m                                       \u001b[0mimpl\u001b[0m\u001b[1;33m,\u001b[0m\u001b[1;33m\u001b[0m\u001b[0m\n\u001b[1;32m     79\u001b[0m                                       \u001b[0margs\u001b[0m\u001b[1;33m=\u001b[0m\u001b[0margs\u001b[0m\u001b[1;33m,\u001b[0m \u001b[0mreturn_type\u001b[0m\u001b[1;33m=\u001b[0m\u001b[0mreturn_type\u001b[0m\u001b[1;33m,\u001b[0m\u001b[1;33m\u001b[0m\u001b[0m\n\u001b[0;32m---> 80\u001b[0;31m                                       flags=flags, locals=self.locals)\n\u001b[0m\u001b[1;32m     81\u001b[0m         \u001b[1;31m# Check typing error if object mode is used\u001b[0m\u001b[1;33m\u001b[0m\u001b[1;33m\u001b[0m\u001b[0m\n\u001b[1;32m     82\u001b[0m         \u001b[1;32mif\u001b[0m \u001b[0mcres\u001b[0m\u001b[1;33m.\u001b[0m\u001b[0mtyping_error\u001b[0m \u001b[1;32mis\u001b[0m \u001b[1;32mnot\u001b[0m \u001b[1;32mNone\u001b[0m \u001b[1;32mand\u001b[0m \u001b[1;32mnot\u001b[0m \u001b[0mflags\u001b[0m\u001b[1;33m.\u001b[0m\u001b[0menable_pyobject\u001b[0m\u001b[1;33m:\u001b[0m\u001b[1;33m\u001b[0m\u001b[0m\n",
      "\u001b[0;32mD:\\Program Files\\Continuum\\Anaconda3\\lib\\site-packages\\numba\\compiler.py\u001b[0m in \u001b[0;36mcompile_extra\u001b[0;34m(typingctx, targetctx, func, args, return_type, flags, locals, library)\u001b[0m\n\u001b[1;32m    761\u001b[0m     pipeline = Pipeline(typingctx, targetctx, library,\n\u001b[1;32m    762\u001b[0m                         args, return_type, flags, locals)\n\u001b[0;32m--> 763\u001b[0;31m     \u001b[1;32mreturn\u001b[0m \u001b[0mpipeline\u001b[0m\u001b[1;33m.\u001b[0m\u001b[0mcompile_extra\u001b[0m\u001b[1;33m(\u001b[0m\u001b[0mfunc\u001b[0m\u001b[1;33m)\u001b[0m\u001b[1;33m\u001b[0m\u001b[0m\n\u001b[0m\u001b[1;32m    764\u001b[0m \u001b[1;33m\u001b[0m\u001b[0m\n\u001b[1;32m    765\u001b[0m \u001b[1;33m\u001b[0m\u001b[0m\n",
      "\u001b[0;32mD:\\Program Files\\Continuum\\Anaconda3\\lib\\site-packages\\numba\\compiler.py\u001b[0m in \u001b[0;36mcompile_extra\u001b[0;34m(self, func)\u001b[0m\n\u001b[1;32m    358\u001b[0m         \u001b[0mself\u001b[0m\u001b[1;33m.\u001b[0m\u001b[0mlifted\u001b[0m \u001b[1;33m=\u001b[0m \u001b[1;33m(\u001b[0m\u001b[1;33m)\u001b[0m\u001b[1;33m\u001b[0m\u001b[0m\n\u001b[1;32m    359\u001b[0m         \u001b[0mself\u001b[0m\u001b[1;33m.\u001b[0m\u001b[0mlifted_from\u001b[0m \u001b[1;33m=\u001b[0m \u001b[1;32mNone\u001b[0m\u001b[1;33m\u001b[0m\u001b[0m\n\u001b[0;32m--> 360\u001b[0;31m         \u001b[1;32mreturn\u001b[0m \u001b[0mself\u001b[0m\u001b[1;33m.\u001b[0m\u001b[0m_compile_bytecode\u001b[0m\u001b[1;33m(\u001b[0m\u001b[1;33m)\u001b[0m\u001b[1;33m\u001b[0m\u001b[0m\n\u001b[0m\u001b[1;32m    361\u001b[0m \u001b[1;33m\u001b[0m\u001b[0m\n\u001b[1;32m    362\u001b[0m     \u001b[1;32mdef\u001b[0m \u001b[0mcompile_ir\u001b[0m\u001b[1;33m(\u001b[0m\u001b[0mself\u001b[0m\u001b[1;33m,\u001b[0m \u001b[0mfunc_ir\u001b[0m\u001b[1;33m,\u001b[0m \u001b[0mlifted\u001b[0m\u001b[1;33m=\u001b[0m\u001b[1;33m(\u001b[0m\u001b[1;33m)\u001b[0m\u001b[1;33m,\u001b[0m \u001b[0mlifted_from\u001b[0m\u001b[1;33m=\u001b[0m\u001b[1;32mNone\u001b[0m\u001b[1;33m)\u001b[0m\u001b[1;33m:\u001b[0m\u001b[1;33m\u001b[0m\u001b[0m\n",
      "\u001b[0;32mD:\\Program Files\\Continuum\\Anaconda3\\lib\\site-packages\\numba\\compiler.py\u001b[0m in \u001b[0;36m_compile_bytecode\u001b[0;34m(self)\u001b[0m\n\u001b[1;32m    720\u001b[0m         \"\"\"\n\u001b[1;32m    721\u001b[0m         \u001b[1;32massert\u001b[0m \u001b[0mself\u001b[0m\u001b[1;33m.\u001b[0m\u001b[0mfunc_ir\u001b[0m \u001b[1;32mis\u001b[0m \u001b[1;32mNone\u001b[0m\u001b[1;33m\u001b[0m\u001b[0m\n\u001b[0;32m--> 722\u001b[0;31m         \u001b[1;32mreturn\u001b[0m \u001b[0mself\u001b[0m\u001b[1;33m.\u001b[0m\u001b[0m_compile_core\u001b[0m\u001b[1;33m(\u001b[0m\u001b[1;33m)\u001b[0m\u001b[1;33m\u001b[0m\u001b[0m\n\u001b[0m\u001b[1;32m    723\u001b[0m \u001b[1;33m\u001b[0m\u001b[0m\n\u001b[1;32m    724\u001b[0m     \u001b[1;32mdef\u001b[0m \u001b[0m_compile_ir\u001b[0m\u001b[1;33m(\u001b[0m\u001b[0mself\u001b[0m\u001b[1;33m)\u001b[0m\u001b[1;33m:\u001b[0m\u001b[1;33m\u001b[0m\u001b[0m\n",
      "\u001b[0;32mD:\\Program Files\\Continuum\\Anaconda3\\lib\\site-packages\\numba\\compiler.py\u001b[0m in \u001b[0;36m_compile_core\u001b[0;34m(self)\u001b[0m\n\u001b[1;32m    707\u001b[0m \u001b[1;33m\u001b[0m\u001b[0m\n\u001b[1;32m    708\u001b[0m         \u001b[0mpm\u001b[0m\u001b[1;33m.\u001b[0m\u001b[0mfinalize\u001b[0m\u001b[1;33m(\u001b[0m\u001b[1;33m)\u001b[0m\u001b[1;33m\u001b[0m\u001b[0m\n\u001b[0;32m--> 709\u001b[0;31m         \u001b[0mres\u001b[0m \u001b[1;33m=\u001b[0m \u001b[0mpm\u001b[0m\u001b[1;33m.\u001b[0m\u001b[0mrun\u001b[0m\u001b[1;33m(\u001b[0m\u001b[0mself\u001b[0m\u001b[1;33m.\u001b[0m\u001b[0mstatus\u001b[0m\u001b[1;33m)\u001b[0m\u001b[1;33m\u001b[0m\u001b[0m\n\u001b[0m\u001b[1;32m    710\u001b[0m         \u001b[1;32mif\u001b[0m \u001b[0mres\u001b[0m \u001b[1;32mis\u001b[0m \u001b[1;32mnot\u001b[0m \u001b[1;32mNone\u001b[0m\u001b[1;33m:\u001b[0m\u001b[1;33m\u001b[0m\u001b[0m\n\u001b[1;32m    711\u001b[0m             \u001b[1;31m# Early pipeline completion\u001b[0m\u001b[1;33m\u001b[0m\u001b[1;33m\u001b[0m\u001b[0m\n",
      "\u001b[0;32mD:\\Program Files\\Continuum\\Anaconda3\\lib\\site-packages\\numba\\compiler.py\u001b[0m in \u001b[0;36mrun\u001b[0;34m(self, status)\u001b[0m\n\u001b[1;32m    244\u001b[0m                     \u001b[1;31m# No more fallback pipelines?\u001b[0m\u001b[1;33m\u001b[0m\u001b[1;33m\u001b[0m\u001b[0m\n\u001b[1;32m    245\u001b[0m                     \u001b[1;32mif\u001b[0m \u001b[0mis_final_pipeline\u001b[0m\u001b[1;33m:\u001b[0m\u001b[1;33m\u001b[0m\u001b[0m\n\u001b[0;32m--> 246\u001b[0;31m                         \u001b[1;32mraise\u001b[0m \u001b[0mpatched_exception\u001b[0m\u001b[1;33m\u001b[0m\u001b[0m\n\u001b[0m\u001b[1;32m    247\u001b[0m                     \u001b[1;31m# Go to next fallback pipeline\u001b[0m\u001b[1;33m\u001b[0m\u001b[1;33m\u001b[0m\u001b[0m\n\u001b[1;32m    248\u001b[0m                     \u001b[1;32melse\u001b[0m\u001b[1;33m:\u001b[0m\u001b[1;33m\u001b[0m\u001b[0m\n",
      "\u001b[0;32mD:\\Program Files\\Continuum\\Anaconda3\\lib\\site-packages\\numba\\compiler.py\u001b[0m in \u001b[0;36mrun\u001b[0;34m(self, status)\u001b[0m\n\u001b[1;32m    236\u001b[0m                 \u001b[1;32mtry\u001b[0m\u001b[1;33m:\u001b[0m\u001b[1;33m\u001b[0m\u001b[0m\n\u001b[1;32m    237\u001b[0m                     \u001b[0mevent\u001b[0m\u001b[1;33m(\u001b[0m\u001b[0mstage_name\u001b[0m\u001b[1;33m)\u001b[0m\u001b[1;33m\u001b[0m\u001b[0m\n\u001b[0;32m--> 238\u001b[0;31m                     \u001b[0mstage\u001b[0m\u001b[1;33m(\u001b[0m\u001b[1;33m)\u001b[0m\u001b[1;33m\u001b[0m\u001b[0m\n\u001b[0m\u001b[1;32m    239\u001b[0m                 \u001b[1;32mexcept\u001b[0m \u001b[0m_EarlyPipelineCompletion\u001b[0m \u001b[1;32mas\u001b[0m \u001b[0me\u001b[0m\u001b[1;33m:\u001b[0m\u001b[1;33m\u001b[0m\u001b[0m\n\u001b[1;32m    240\u001b[0m                     \u001b[1;32mreturn\u001b[0m \u001b[0me\u001b[0m\u001b[1;33m.\u001b[0m\u001b[0mresult\u001b[0m\u001b[1;33m\u001b[0m\u001b[0m\n",
      "\u001b[0;32mD:\\Program Files\\Continuum\\Anaconda3\\lib\\site-packages\\numba\\compiler.py\u001b[0m in \u001b[0;36mstage_nopython_frontend\u001b[0;34m(self)\u001b[0m\n\u001b[1;32m    450\u001b[0m                 \u001b[0mself\u001b[0m\u001b[1;33m.\u001b[0m\u001b[0margs\u001b[0m\u001b[1;33m,\u001b[0m\u001b[1;33m\u001b[0m\u001b[0m\n\u001b[1;32m    451\u001b[0m                 \u001b[0mself\u001b[0m\u001b[1;33m.\u001b[0m\u001b[0mreturn_type\u001b[0m\u001b[1;33m,\u001b[0m\u001b[1;33m\u001b[0m\u001b[0m\n\u001b[0;32m--> 452\u001b[0;31m                 self.locals)\n\u001b[0m\u001b[1;32m    453\u001b[0m \u001b[1;33m\u001b[0m\u001b[0m\n\u001b[1;32m    454\u001b[0m         with self.fallback_context('Function \"%s\" has invalid return type'\n",
      "\u001b[0;32mD:\\Program Files\\Continuum\\Anaconda3\\lib\\site-packages\\numba\\compiler.py\u001b[0m in \u001b[0;36mtype_inference_stage\u001b[0;34m(typingctx, interp, args, return_type, locals)\u001b[0m\n\u001b[1;32m    863\u001b[0m \u001b[1;33m\u001b[0m\u001b[0m\n\u001b[1;32m    864\u001b[0m         \u001b[0minfer\u001b[0m\u001b[1;33m.\u001b[0m\u001b[0mbuild_constraint\u001b[0m\u001b[1;33m(\u001b[0m\u001b[1;33m)\u001b[0m\u001b[1;33m\u001b[0m\u001b[0m\n\u001b[0;32m--> 865\u001b[0;31m         \u001b[0minfer\u001b[0m\u001b[1;33m.\u001b[0m\u001b[0mpropagate\u001b[0m\u001b[1;33m(\u001b[0m\u001b[1;33m)\u001b[0m\u001b[1;33m\u001b[0m\u001b[0m\n\u001b[0m\u001b[1;32m    866\u001b[0m         \u001b[0mtypemap\u001b[0m\u001b[1;33m,\u001b[0m \u001b[0mrestype\u001b[0m\u001b[1;33m,\u001b[0m \u001b[0mcalltypes\u001b[0m \u001b[1;33m=\u001b[0m \u001b[0minfer\u001b[0m\u001b[1;33m.\u001b[0m\u001b[0munify\u001b[0m\u001b[1;33m(\u001b[0m\u001b[1;33m)\u001b[0m\u001b[1;33m\u001b[0m\u001b[0m\n\u001b[1;32m    867\u001b[0m \u001b[1;33m\u001b[0m\u001b[0m\n",
      "\u001b[0;32mD:\\Program Files\\Continuum\\Anaconda3\\lib\\site-packages\\numba\\typeinfer.py\u001b[0m in \u001b[0;36mpropagate\u001b[0;34m(self, raise_errors)\u001b[0m\n\u001b[1;32m    842\u001b[0m         \u001b[1;32mif\u001b[0m \u001b[0merrors\u001b[0m\u001b[1;33m:\u001b[0m\u001b[1;33m\u001b[0m\u001b[0m\n\u001b[1;32m    843\u001b[0m             \u001b[1;32mif\u001b[0m \u001b[0mraise_errors\u001b[0m\u001b[1;33m:\u001b[0m\u001b[1;33m\u001b[0m\u001b[0m\n\u001b[0;32m--> 844\u001b[0;31m                 \u001b[1;32mraise\u001b[0m \u001b[0merrors\u001b[0m\u001b[1;33m[\u001b[0m\u001b[1;36m0\u001b[0m\u001b[1;33m]\u001b[0m\u001b[1;33m\u001b[0m\u001b[0m\n\u001b[0m\u001b[1;32m    845\u001b[0m             \u001b[1;32melse\u001b[0m\u001b[1;33m:\u001b[0m\u001b[1;33m\u001b[0m\u001b[0m\n\u001b[1;32m    846\u001b[0m                 \u001b[1;32mreturn\u001b[0m \u001b[0merrors\u001b[0m\u001b[1;33m\u001b[0m\u001b[0m\n",
      "\u001b[0;31mTypingError\u001b[0m: Failed at nopython (nopython frontend)\nInternal error at <numba.typeinfer.CallConstraint object at 0x0000024BCCDDA0F0>:\n--%<-----------------------------------------------------------------\nTraceback (most recent call last):\n  File \"D:\\Program Files\\Continuum\\Anaconda3\\lib\\site-packages\\numba\\targets\\base.py\", line 644, in cast\n    impl = self._casts.find((fromty, toty))\n  File \"D:\\Program Files\\Continuum\\Anaconda3\\lib\\site-packages\\numba\\targets\\base.py\", line 49, in find\n    out = self._find(sig)\n  File \"D:\\Program Files\\Continuum\\Anaconda3\\lib\\site-packages\\numba\\targets\\base.py\", line 58, in _find\n    raise NotImplementedError(self, sig)\nNotImplementedError: (<numba.targets.base.OverloadSelector object at 0x0000024BCC90AC50>, (reflected list(int64), array(int64, 1d, A)))\n\nDuring handling of the above exception, another exception occurred:\n\nTraceback (most recent call last):\n  File \"D:\\Program Files\\Continuum\\Anaconda3\\lib\\site-packages\\numba\\errors.py\", line 259, in new_error_context\n    yield\n  File \"D:\\Program Files\\Continuum\\Anaconda3\\lib\\site-packages\\numba\\lowering.py\", line 216, in lower_block\n    self.lower_inst(inst)\n  File \"D:\\Program Files\\Continuum\\Anaconda3\\lib\\site-packages\\numba\\lowering.py\", line 355, in lower_inst\n    signature.args[1])\n  File \"D:\\Program Files\\Continuum\\Anaconda3\\lib\\site-packages\\numba\\targets\\base.py\", line 648, in cast\n    \"Cannot cast %s to %s: %s\" % (fromty, toty, val))\nNotImplementedError: Cannot cast reflected list(int64) to array(int64, 1d, A): %\".125\" = load {i8*, i8*}, {i8*, i8*}* %\"indices\"\n\nDuring handling of the above exception, another exception occurred:\n\nTraceback (most recent call last):\n  File \"D:\\Program Files\\Continuum\\Anaconda3\\lib\\site-packages\\numba\\typeinfer.py\", line 137, in propagate\n    constraint(typeinfer)\n  File \"D:\\Program Files\\Continuum\\Anaconda3\\lib\\site-packages\\numba\\typeinfer.py\", line 415, in __call__\n    self.resolve(typeinfer, typevars, fnty)\n  File \"D:\\Program Files\\Continuum\\Anaconda3\\lib\\site-packages\\numba\\typeinfer.py\", line 441, in resolve\n    sig = typeinfer.resolve_call(fnty, pos_args, kw_args, literals=literals)\n  File \"D:\\Program Files\\Continuum\\Anaconda3\\lib\\site-packages\\numba\\typeinfer.py\", line 1113, in resolve_call\n    literals=literals)\n  File \"D:\\Program Files\\Continuum\\Anaconda3\\lib\\site-packages\\numba\\typing\\context.py\", line 202, in resolve_function_type\n    return func.get_call_type_with_literals(self, args, kws, literals)\n  File \"D:\\Program Files\\Continuum\\Anaconda3\\lib\\site-packages\\numba\\types\\abstract.py\", line 266, in get_call_type_with_literals\n    return self.get_call_type(context, args, kws)\n  File \"D:\\Program Files\\Continuum\\Anaconda3\\lib\\site-packages\\numba\\types\\misc.py\", line 374, in get_call_type\n    return self.ctor_template(context).apply(args, kws)\n  File \"D:\\Program Files\\Continuum\\Anaconda3\\lib\\site-packages\\numba\\typing\\templates.py\", line 207, in apply\n    sig = generic(args, kws)\n  File \"D:\\Program Files\\Continuum\\Anaconda3\\lib\\site-packages\\numba\\jitclass\\base.py\", line 231, in generic\n    sig = disp_type.get_call_type(self.context, boundargs, kws)\n  File \"D:\\Program Files\\Continuum\\Anaconda3\\lib\\site-packages\\numba\\types\\functions.py\", line 175, in get_call_type\n    template, pysig, args, kws = self.dispatcher.get_call_template(args, kws)\n  File \"D:\\Program Files\\Continuum\\Anaconda3\\lib\\site-packages\\numba\\dispatcher.py\", line 269, in get_call_template\n    self.compile(tuple(args))\n  File \"D:\\Program Files\\Continuum\\Anaconda3\\lib\\site-packages\\numba\\dispatcher.py\", line 579, in compile\n    cres = self._compiler.compile(args, return_type)\n  File \"D:\\Program Files\\Continuum\\Anaconda3\\lib\\site-packages\\numba\\dispatcher.py\", line 80, in compile\n    flags=flags, locals=self.locals)\n  File \"D:\\Program Files\\Continuum\\Anaconda3\\lib\\site-packages\\numba\\compiler.py\", line 763, in compile_extra\n    return pipeline.compile_extra(func)\n  File \"D:\\Program Files\\Continuum\\Anaconda3\\lib\\site-packages\\numba\\compiler.py\", line 360, in compile_extra\n    return self._compile_bytecode()\n  File \"D:\\Program Files\\Continuum\\Anaconda3\\lib\\site-packages\\numba\\compiler.py\", line 722, in _compile_bytecode\n    return self._compile_core()\n  File \"D:\\Program Files\\Continuum\\Anaconda3\\lib\\site-packages\\numba\\compiler.py\", line 709, in _compile_core\n    res = pm.run(self.status)\n  File \"D:\\Program Files\\Continuum\\Anaconda3\\lib\\site-packages\\numba\\compiler.py\", line 246, in run\n    raise patched_exception\n  File \"D:\\Program Files\\Continuum\\Anaconda3\\lib\\site-packages\\numba\\compiler.py\", line 238, in run\n    stage()\n  File \"D:\\Program Files\\Continuum\\Anaconda3\\lib\\site-packages\\numba\\compiler.py\", line 644, in stage_nopython_backend\n    self._backend(lowerfn, objectmode=False)\n  File \"D:\\Program Files\\Continuum\\Anaconda3\\lib\\site-packages\\numba\\compiler.py\", line 599, in _backend\n    lowered = lowerfn()\n  File \"D:\\Program Files\\Continuum\\Anaconda3\\lib\\site-packages\\numba\\compiler.py\", line 586, in backend_nopython_mode\n    self.flags)\n  File \"D:\\Program Files\\Continuum\\Anaconda3\\lib\\site-packages\\numba\\compiler.py\", line 882, in native_lowering_stage\n    lower.lower()\n  File \"D:\\Program Files\\Continuum\\Anaconda3\\lib\\site-packages\\numba\\lowering.py\", line 135, in lower\n    self.lower_normal_function(self.fndesc)\n  File \"D:\\Program Files\\Continuum\\Anaconda3\\lib\\site-packages\\numba\\lowering.py\", line 176, in lower_normal_function\n    entry_block_tail = self.lower_function_body()\n  File \"D:\\Program Files\\Continuum\\Anaconda3\\lib\\site-packages\\numba\\lowering.py\", line 201, in lower_function_body\n    self.lower_block(block)\n  File \"D:\\Program Files\\Continuum\\Anaconda3\\lib\\site-packages\\numba\\lowering.py\", line 216, in lower_block\n    self.lower_inst(inst)\n  File \"D:\\Program Files\\Continuum\\Anaconda3\\lib\\contextlib.py\", line 77, in __exit__\n    self.gen.throw(type, value, traceback)\n  File \"D:\\Program Files\\Continuum\\Anaconda3\\lib\\site-packages\\numba\\errors.py\", line 265, in new_error_context\n    six.reraise(type(newerr), newerr, sys.exc_info()[2])\n  File \"D:\\Program Files\\Continuum\\Anaconda3\\lib\\site-packages\\numba\\six.py\", line 658, in reraise\n    raise value.with_traceback(tb)\n  File \"D:\\Program Files\\Continuum\\Anaconda3\\lib\\site-packages\\numba\\errors.py\", line 259, in new_error_context\n    yield\n  File \"D:\\Program Files\\Continuum\\Anaconda3\\lib\\site-packages\\numba\\lowering.py\", line 216, in lower_block\n    self.lower_inst(inst)\n  File \"D:\\Program Files\\Continuum\\Anaconda3\\lib\\site-packages\\numba\\lowering.py\", line 355, in lower_inst\n    signature.args[1])\n  File \"D:\\Program Files\\Continuum\\Anaconda3\\lib\\site-packages\\numba\\targets\\base.py\", line 648, in cast\n    \"Cannot cast %s to %s: %s\" % (fromty, toty, val))\nnumba.errors.LoweringError: Failed at nopython (nopython mode backend)\nCannot cast reflected list(int64) to array(int64, 1d, A): %\".125\" = load {i8*, i8*}, {i8*, i8*}* %\"indices\"\nFile \"node.py\", line 22\n[1] During: lowering \"(self).indices = indices\" at C:\\Users\\jankr\\Documents\\GitHub\\CSC612M Final Project\\node.py (22)\n[2] During: resolving callee type: jitclass.ParallelNode#24bcb586d18<parent:?DeferredType#2524551553880,start:int64,end:int64,error:int64,pattern:int64,indices:array(int64, 1d, A)>\n[3] During: typing of call at <string> (3)\n--%<-----------------------------------------------------------------\n\nFile \"<string>\", line 3"
     ]
    }
   ],
   "source": [
    "leaves = []\n",
    "indices = []\n",
    "indices.append(0x80000000)\n",
    "leaves.append(ParallelNode(indices))\n",
    "pex = ParallelPEXAlgorithm(leaves,indices)\n",
    "\n",
    "search_string = 'annual'\n",
    "input_string ='annual.CPM.anniversary.annua.cannibal.nuality.annual.anteal.annnneal.a.nn.al'\n",
    "k = 2\n",
    "\n",
    "pex.create_tree(search_string, 0, len(search_string)-1, k, None, int(len(search_string)/(k+1)))"
   ]
  },
  {
   "cell_type": "code",
   "execution_count": null,
   "metadata": {
    "collapsed": false
   },
   "outputs": [],
   "source": [
    "%timeit -n 1000 pex.find_indices(input_string)"
   ]
  },
  {
   "cell_type": "code",
   "execution_count": null,
   "metadata": {
    "collapsed": false
   },
   "outputs": [],
   "source": [
    "%timeit -n 1 pex.search_candidates(input_string)"
   ]
  },
  {
   "cell_type": "code",
   "execution_count": null,
   "metadata": {
    "collapsed": false
   },
   "outputs": [],
   "source": [
    "for index, value in pex.indicesDict.items():\n",
    "    print(index , value)"
   ]
  },
  {
   "cell_type": "code",
   "execution_count": null,
   "metadata": {
    "collapsed": true
   },
   "outputs": [],
   "source": []
  }
 ],
 "metadata": {
  "anaconda-cloud": {},
  "kernelspec": {
   "display_name": "Python [conda root]",
   "language": "python",
   "name": "conda-root-py"
  },
  "language_info": {
   "codemirror_mode": {
    "name": "ipython",
    "version": 3
   },
   "file_extension": ".py",
   "mimetype": "text/x-python",
   "name": "python",
   "nbconvert_exporter": "python",
   "pygments_lexer": "ipython3",
   "version": "3.5.2"
  }
 },
 "nbformat": 4,
 "nbformat_minor": 1
}
